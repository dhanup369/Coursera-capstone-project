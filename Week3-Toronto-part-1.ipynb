{
    "nbformat_minor": 1, 
    "cells": [
        {
            "execution_count": 1, 
            "cell_type": "code", 
            "metadata": {}, 
            "outputs": [], 
            "source": "import requests\nfrom bs4 import BeautifulSoup"
        }, 
        {
            "execution_count": 2, 
            "cell_type": "code", 
            "metadata": {}, 
            "outputs": [], 
            "source": "page = requests.get('https://en.wikipedia.org/wiki/List_of_postal_codes_of_Canada:_M')\nsoup = BeautifulSoup(page.text, 'html.parser')"
        }, 
        {
            "execution_count": 5, 
            "cell_type": "code", 
            "metadata": {}, 
            "outputs": [], 
            "source": "records = []\n\n# table recherche\ncode_table = soup.find('table')\n# p items\nname_codes_item = code_table.find_all('p')\n\n\nfor mysource in name_codes_item:\n    \n    myPostaCode = mysource.find('b').contents[0]\n    #toto = toto.contents[0]\n    # M1A\n    \n    myBorough_myNeighborhood = mysource.find_all('span')[0].text\n    \n    first_part = myBorough_myNeighborhood.replace( ')', '')\n    first_part1 = first_part.replace( '/', ', ')\n    #first_part1\n    new_base = first_part1.split('(')\n    \n    myBorough = new_base[0:1]\n    myBorough = ','.join(myBorough)\n    \n    myNeighborhood = new_base[1:]\n    myNeighborhood = ','.join(myNeighborhood)\n    \n    #\n    # print( myPostaCode, myBorough,myNeighborhood )\n    records.append((myPostaCode,myBorough, myNeighborhood))"
        }, 
        {
            "execution_count": 6, 
            "cell_type": "code", 
            "metadata": {}, 
            "outputs": [], 
            "source": "import pandas as pd\ndf_toronto = pd.DataFrame(records, columns=['PostalCode', 'Borough', 'Neighborhood'])"
        }, 
        {
            "execution_count": 8, 
            "cell_type": "code", 
            "metadata": {}, 
            "outputs": [
                {
                    "execution_count": 8, 
                    "metadata": {}, 
                    "data": {
                        "text/html": "<div>\n<style scoped>\n    .dataframe tbody tr th:only-of-type {\n        vertical-align: middle;\n    }\n\n    .dataframe tbody tr th {\n        vertical-align: top;\n    }\n\n    .dataframe thead th {\n        text-align: right;\n    }\n</style>\n<table border=\"1\" class=\"dataframe\">\n  <thead>\n    <tr style=\"text-align: right;\">\n      <th></th>\n      <th>PostalCode</th>\n      <th>Borough</th>\n      <th>Neighborhood</th>\n    </tr>\n  </thead>\n  <tbody>\n    <tr>\n      <th>0</th>\n      <td>M1A</td>\n      <td>Not assigned</td>\n      <td></td>\n    </tr>\n    <tr>\n      <th>1</th>\n      <td>M2A</td>\n      <td>Not assigned</td>\n      <td></td>\n    </tr>\n    <tr>\n      <th>2</th>\n      <td>M3A</td>\n      <td>North York</td>\n      <td>Parkwoods</td>\n    </tr>\n    <tr>\n      <th>3</th>\n      <td>M4A</td>\n      <td>North York</td>\n      <td>Victoria Village</td>\n    </tr>\n    <tr>\n      <th>4</th>\n      <td>M5A</td>\n      <td>Downtown Toronto</td>\n      <td>Regent Park ,  Harbourfront</td>\n    </tr>\n    <tr>\n      <th>5</th>\n      <td>M6A</td>\n      <td>North York</td>\n      <td>Lawrence Manor ,  Lawrence Heights</td>\n    </tr>\n    <tr>\n      <th>6</th>\n      <td>M7A</td>\n      <td>Queen's Park\\n</td>\n      <td></td>\n    </tr>\n    <tr>\n      <th>7</th>\n      <td>M8A</td>\n      <td>Not assigned</td>\n      <td></td>\n    </tr>\n    <tr>\n      <th>8</th>\n      <td>M9A</td>\n      <td>Etobicoke</td>\n      <td>Islington Avenue</td>\n    </tr>\n    <tr>\n      <th>9</th>\n      <td>M1B</td>\n      <td>Scarborough</td>\n      <td>Malvern ,  Rouge</td>\n    </tr>\n  </tbody>\n</table>\n</div>", 
                        "text/plain": "  PostalCode           Borough                        Neighborhood\n0        M1A      Not assigned                                    \n1        M2A      Not assigned                                    \n2        M3A        North York                           Parkwoods\n3        M4A        North York                    Victoria Village\n4        M5A  Downtown Toronto         Regent Park ,  Harbourfront\n5        M6A        North York  Lawrence Manor ,  Lawrence Heights\n6        M7A    Queen's Park\\n                                    \n7        M8A      Not assigned                                    \n8        M9A         Etobicoke                    Islington Avenue\n9        M1B       Scarborough                    Malvern ,  Rouge"
                    }, 
                    "output_type": "execute_result"
                }
            ], 
            "source": "df_toronto.head(10)"
        }
    ], 
    "metadata": {
        "kernelspec": {
            "display_name": "Python 3.5", 
            "name": "python3", 
            "language": "python"
        }, 
        "language_info": {
            "mimetype": "text/x-python", 
            "nbconvert_exporter": "python", 
            "version": "3.5.5", 
            "name": "python", 
            "file_extension": ".py", 
            "pygments_lexer": "ipython3", 
            "codemirror_mode": {
                "version": 3, 
                "name": "ipython"
            }
        }
    }, 
    "nbformat": 4
}